{
 "cells": [
  {
   "cell_type": "code",
   "execution_count": 2,
   "metadata": {},
   "outputs": [],
   "source": [
    "from lxml import html\n",
    "from lxml import objectify\n",
    "import requests\n",
    "import json\n",
    "import pandas as pd\n",
    "import csv\n",
    "import numpy as np"
   ]
  },
  {
   "cell_type": "code",
   "execution_count": 12,
   "metadata": {},
   "outputs": [],
   "source": [
    "class Scraper_BackCountry:\n",
    "    def __init__(self):\n",
    "        BASE_URL = \"https://www.backcountry.com\"\n",
    "        HEADERS = {\n",
    "            'user-agent': \"Mozilla/5.0 (Windows NT 10.0; Win64; x64) AppleWebKit/537.36 (KHTML, like Gecko) Chrome/86.0.4240.75 Safari/537.36\",\n",
    "            'accept-encoding': 'gzip, deflate, br',\n",
    "            'accept-language': 'en-US,en;q=0.9',\n",
    "            'accept': 'text/html,application/xhtml+xml,application/xml;q=0.9,image/avif,image/webp,image/apng,*/*;q=0.8,application/signed-exchange;v=b3;q=0.9',\n",
    "            'referer': 'https://www.google.com/',\n",
    "        }\n",
    "    \n",
    "    def getSpecs_BackCountry(self, url):\n",
    "        tree = self.get(url)\n",
    "\n",
    "        specNames = tree.xpath('//dt[@class=\"prod-details-accordion__techspec-name js-techspec-name\"]/text()')\n",
    "        specValues = tree.xpath('//dd[@class=\"prod-details-accordion__techspec-value js-techspec-value\"]/text()')\n",
    "\n",
    "        img = tree.xpath('//img[@class=\"ui-flexslider__img js-flexslider-img qa-flexslider__img\"]')[0]\n",
    "        img = html.tostring(img, encoding=\"unicode\")\n",
    "        img = img.split('data-src=\"//')[1].split('\"')[0]\n",
    "        name = tree.xpath('//title/text()')[0].split(\" |\")[0]\n",
    "        summary = tree.xpath('//script[@type=\"text/javascript\"]/text()')[3]\n",
    "        summary = summary.split('BC.product = ')[1].split(';BC.product')[0]\n",
    "        summary = json.loads(summary)\n",
    "        currency = tree.xpath('//meta[@itemprop=\"priceCurrency\"]/@content')[0]\n",
    "        avgRating, numRatings = calculateRating(tree.xpath('//div[@class=\"reviews-wrap\"]')[0])\n",
    "\n",
    "        data = {}\n",
    "        data[\"URL\"] = url\n",
    "        data[\"Name\"] = summary[\"displayName\"]\n",
    "        data[\"Brand\"] = summary[\"brand\"][\"displayName\"]\n",
    "        data[\"lowPrice\"] = summary[\"lowListPrice\"].split(\"$\")[1]  #maybe add symbols for different currencies\n",
    "        data[\"highPrice\"] = summary[\"highListPrice\"].split(\"$\")[1]\n",
    "        data[\"PriceCurrency\"] = currency\n",
    "        data[\"Image\"] = img\n",
    "        data['Rating'] = avgRating\n",
    "        data['numRatings'] = numRatings\n",
    "        for i, item in enumerate(specValues):\n",
    "            data[specNames[i]] = item\n",
    "        return data\n",
    "\n",
    "    \n",
    "    def getPages_BackCountry(self, url):\n",
    "        tree = self.get(url)\n",
    "        numPagesList = tree.xpath('//li[@class=\"page-link page-number qa-page-link\"]/.//a/text()')\n",
    "        if(len(numPagesList) == 0):\n",
    "            return [url]\n",
    "\n",
    "        urlList = []\n",
    "        numPages = int(numPagesList[-1])\n",
    "        if \"?\" in url:\n",
    "            pagesStr1 = \"&page=\"\n",
    "        else:\n",
    "            pagesStr1 = \"?page=\"\n",
    "        pagesStr2 = \"&pagesize=42\"    # for some reason always added when changing page manually on website\n",
    "        for i in range(numPages):\n",
    "            pageURL = url + pagesStr1 + str(i) + pagesStr2\n",
    "            urlList.append(pageURL)\n",
    "        return urlList\n",
    "    \n",
    "    \n",
    "    \n",
    "        def getProducts_BackCountry(self, urls):\n",
    "            urlPages = getPages_BackCountry(urls) # get urls of each page of the website category\n",
    "            urlProducts = []\n",
    "            for url in urlPages: #get urls of each product on each page and append to list\n",
    "                productsURL = getProductsFromPage_BackCountry(url)\n",
    "                for productURL in productsURL:\n",
    "                    urlProducts.append(productURL)\n",
    "            products = []\n",
    "            for prodURL in urlProducts:\n",
    "                print(prodURL)\n",
    "                specs = getSpecs_BackCountry(self.BASE_URL + prodURL)\n",
    "                products.append(specs) # append product list to specs\n",
    "            return product\n",
    "        \n",
    "        \n",
    "        def scrape_BackCountry(self, categories):\n",
    "            products = {}\n",
    "            for category in categories:\n",
    "                print(category)\n",
    "                products[category] = []\n",
    "                for url in categories[category]:\n",
    "                    products[category].append(getProducts_BackCountry(url))\n",
    "            return products\n",
    "    \n",
    "    \n",
    "    \n",
    "    # calculates produt rating from reviews listed on product page\n",
    "    def calculateRating(self, tree):\n",
    "        #get number of reviews of each numbered rating\n",
    "        numFive = len(tree.xpath('//div[@class=\"rating-value-5 review-header-rating\"]'))\n",
    "        numFour = len(tree.xpath('//div[@class=\"rating-value-4 review-header-rating\"]'))\n",
    "        numThree = len(tree.xpath('//div[@class=\"rating-value-3 review-header-rating\"]'))\n",
    "        numTwo = len(tree.xpath('//div[@class=\"rating-value-2 review-header-rating\"]'))\n",
    "        numOne = len(tree.xpath('//div[@class=\"rating-value-1 review-header-rating\"]'))\n",
    "        \n",
    "        numSum = numFive + numFour + numThree + numTwo + numOne\n",
    "        # return -1 if product has no ratings\n",
    "        if(numSum == 0):\n",
    "            return -1, 0\n",
    "        #calculate average rating and total number of ratings\n",
    "        return ( ( 5 * numFive + 4 * numFour + 3 * numThree + 2 * numTwo + 1 * numOne) / numSum ), numSum\n",
    "    \n",
    "    def getProductsFromPage_BackCountry(self, url):\n",
    "        tree = self.get(url)\n",
    "\n",
    "        products = tree.xpath('//div[@aria-label=\"Product\"]/.//a/@href')\n",
    "        return products\n",
    "    \n",
    "    \n",
    "        # helper function for get requests\n",
    "    def get(self, url):\n",
    "        # sleep to add variable pauses in requests\n",
    "        delay = np.random.randint(20)\n",
    "        time.sleep(delay)\n",
    "        #request then convert data into html element\n",
    "        page = requests.get(url, headers=self.HEADERS)\n",
    "        tree = html.fromstring(page.content)\n",
    "        return tree"
   ]
  },
  {
   "cell_type": "code",
   "execution_count": 15,
   "metadata": {},
   "outputs": [],
   "source": [
    "url = \"https://www.backcountry.com/3-season-tents\""
   ]
  },
  {
   "cell_type": "code",
   "execution_count": 16,
   "metadata": {},
   "outputs": [
    {
     "data": {
      "text/plain": [
       "['https://www.backcountry.com/3-season-tents?page=0&pagesize=42',\n",
       " 'https://www.backcountry.com/3-season-tents?page=1&pagesize=42',\n",
       " 'https://www.backcountry.com/3-season-tents?page=2&pagesize=42',\n",
       " 'https://www.backcountry.com/3-season-tents?page=3&pagesize=42']"
      ]
     },
     "execution_count": 16,
     "metadata": {},
     "output_type": "execute_result"
    }
   ],
   "source": [
    "scraper = Scraper_BackCountry()\n",
    "scraper.getPages_BackCountry(url)"
   ]
  },
  {
   "cell_type": "code",
   "execution_count": 15,
   "metadata": {},
   "outputs": [],
   "source": [
    "HEADERS = {\n",
    "    'user-agent': \"Mozilla/5.0 (Windows NT 10.0; Win64; x64) AppleWebKit/537.36 (KHTML, like Gecko) Chrome/86.0.4240.75 Safari/537.36\",\n",
    "    'accept-encoding': 'gzip, deflate, br',\n",
    "    'accept-language': 'en-US,en;q=0.9',\n",
    "    'accept': 'text/html,application/xhtml+xml,application/xml;q=0.9,image/avif,image/webp,image/apng,*/*;q=0.8,application/signed-exchange;v=b3;q=0.9',\n",
    "    'referer': 'https://www.google.com/',\n",
    "}"
   ]
  },
  {
   "cell_type": "code",
   "execution_count": 1,
   "metadata": {},
   "outputs": [],
   "source": []
  },
  {
   "cell_type": "code",
   "execution_count": 5,
   "metadata": {},
   "outputs": [],
   "source": []
  },
  {
   "cell_type": "code",
   "execution_count": null,
   "metadata": {},
   "outputs": [],
   "source": []
  }
 ],
 "metadata": {
  "kernelspec": {
   "display_name": "Python 3",
   "language": "python",
   "name": "python3"
  },
  "language_info": {
   "codemirror_mode": {
    "name": "ipython",
    "version": 3
   },
   "file_extension": ".py",
   "mimetype": "text/x-python",
   "name": "python",
   "nbconvert_exporter": "python",
   "pygments_lexer": "ipython3",
   "version": "3.7.0"
  }
 },
 "nbformat": 4,
 "nbformat_minor": 2
}
