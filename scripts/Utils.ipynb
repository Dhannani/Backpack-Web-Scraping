{
 "cells": [
  {
   "cell_type": "code",
   "execution_count": 5,
   "metadata": {},
   "outputs": [],
   "source": [
    "import pandas as pd\n",
    "import csv\n",
    "import numpy as np\n",
    "import json\n",
    "from lxml import html\n",
    "from lxml import objectify\n",
    "import requests"
   ]
  },
  {
   "cell_type": "code",
   "execution_count": 7,
   "metadata": {},
   "outputs": [],
   "source": [
    "def save_json(dict):\n",
    "    jsons = json.dumps(dict)\n",
    "    f = open(\"data.json\",\"w\")\n",
    "    f.write(jsons)\n",
    "    f.close()\n",
    "\n",
    "# helper function for get requests\n",
    "def get(headers, url):\n",
    "    # sleep to add variable pauses in requests\n",
    "    delay = np.random.randint(20)\n",
    "    time.sleep(delay)\n",
    "    #request then convert data into html element\n",
    "    page = requests.get(url, headers=headers)\n",
    "    tree = html.fromstring(page.content)\n",
    "    return tree\n"
   ]
  },
  {
   "cell_type": "code",
   "execution_count": null,
   "metadata": {},
   "outputs": [],
   "source": []
  }
 ],
 "metadata": {
  "kernelspec": {
   "display_name": "Python 3",
   "language": "python",
   "name": "python3"
  },
  "language_info": {
   "codemirror_mode": {
    "name": "ipython",
    "version": 3
   },
   "file_extension": ".py",
   "mimetype": "text/x-python",
   "name": "python",
   "nbconvert_exporter": "python",
   "pygments_lexer": "ipython3",
   "version": "3.7.0"
  }
 },
 "nbformat": 4,
 "nbformat_minor": 2
}
